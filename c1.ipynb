{
 "cells": [
  {
   "cell_type": "code",
   "execution_count": 4,
   "metadata": {},
   "outputs": [
    {
     "ename": "SyntaxError",
     "evalue": "invalid syntax (simple.py, line 54)",
     "output_type": "error",
     "traceback": [
      "Traceback \u001b[0;36m(most recent call last)\u001b[0m:\n",
      "\u001b[0m  File \u001b[1;32m~/Desktop/study/mlfloww/env/lib/python3.10/site-packages/IPython/core/interactiveshell.py:3577\u001b[0m in \u001b[1;35mrun_code\u001b[0m\n    exec(code_obj, self.user_global_ns, self.user_ns)\u001b[0m\n",
      "\u001b[0m  Cell \u001b[1;32mIn[4], line 1\u001b[0m\n    from kafka import KafkaConsumer\u001b[0m\n",
      "\u001b[0m  File \u001b[1;32m~/Desktop/study/mlfloww/env/lib/python3.10/site-packages/kafka/__init__.py:23\u001b[0m\n    from kafka.producer import KafkaProducer\u001b[0m\n",
      "\u001b[0;36m  File \u001b[0;32m~/Desktop/study/mlfloww/env/lib/python3.10/site-packages/kafka/producer/__init__.py:4\u001b[0;36m\n\u001b[0;31m    from .simple import SimpleProducer\u001b[0;36m\n",
      "\u001b[0;36m  File \u001b[0;32m~/Desktop/study/mlfloww/env/lib/python3.10/site-packages/kafka/producer/simple.py:54\u001b[0;36m\u001b[0m\n\u001b[0;31m    return '<SimpleProducer batch=%s>' % self.async\u001b[0m\n\u001b[0m                                              ^\u001b[0m\n\u001b[0;31mSyntaxError\u001b[0m\u001b[0;31m:\u001b[0m invalid syntax\n"
     ]
    }
   ],
   "source": [
    "from kafka import KafkaConsumer\n",
    "import json\n",
    "from sklearn.linear_model import LinearRegression\n",
    "import numpy as np\n",
    "import pandas as pd\n",
    "\n",
    "# Initialize Kafka consumer\n",
    "consumer = KafkaConsumer('data-student',\n",
    "                         bootstrap_servers='localhost:9092',\n",
    "                         auto_offset_reset='earliest',\n",
    "                         value_deserializer=lambda x: json.loads(x.decode('utf-8')))\n",
    "\n",
    "# Placeholder for training data\n",
    "X = []\n",
    "y = []\n",
    "\n",
    "# Initialize model\n",
    "model = LinearRegression()\n",
    "\n",
    "print(\"Starting to consume messages...\")\n",
    "\n",
    "for message in consumer:\n",
    "    try:\n",
    "        data = message.value\n",
    "        print(f\"Received data: {data}\")\n",
    "        \n",
    "        # Prepare the data\n",
    "        hours = data['hours']\n",
    "        scores = data['scores']\n",
    "        extracurricular =data['Extracurricular_Activities']\n",
    "        sleep_hours = data['Sleep_Hours']\n",
    "        sample_papers_practiced = data['Sample_Papers_Practiced']\n",
    "        Performance = data['Performance']\n",
    "\n",
    "        data_dict = {\n",
    "            'hours': [hours],\n",
    "            'scores': [scores],\n",
    "            'Extracurricular_Activities': [extracurricular],\n",
    "            'Sleep_Hours': [sleep_hours],\n",
    "            'Sample_Papers_Practiced': [sample_papers_practiced],\n",
    "            'Performance': [Performance]\n",
    "        }\n",
    "        df = pd.DataFrame(data_dict)\n",
    "        \n",
    "        # X.append([hours, scores, extracurricular, sleep_hours, sample_papers_practiced])\n",
    "        # y.append(Performance)\n",
    "        # print(f\"X: {X}, y: {y}\")\n",
    "        # Convert to numpy arrays\n",
    "    #     X_np = np.array(X)\n",
    "    #     y_np = np.array(y)\n",
    "\n",
    "\n",
    "        # from sklearn.pipeline import Pipeline\n",
    "        # from sklearn.linear_model import SGDRegressor\n",
    "        # model=Pipeline([\n",
    "        #     ('preproseccing',preproseccing),\n",
    "        #     ('lr',SGDRegressor())\n",
    "        #     ])\n",
    "\n",
    "        \n",
    "    #     # Train the model\n",
    "    #     model.fit(X_np, y_np)\n",
    "        \n",
    "    #     print(\"Model trained with current data:\")\n",
    "    #     print(f\"Coefficients: {model.coef_}, Intercept: {model.intercept_}\")\n",
    "    \n",
    "    except json.JSONDecodeError:\n",
    "        print(\"Received a message that couldn't be decoded as JSON. Skipping...\")\n",
    "    except Exception as e:\n",
    "        print(f\"An error occurred: {e}\")\n"
   ]
  },
  {
   "cell_type": "code",
   "execution_count": null,
   "metadata": {},
   "outputs": [],
   "source": []
  }
 ],
 "metadata": {
  "kernelspec": {
   "display_name": "env",
   "language": "python",
   "name": "python3"
  },
  "language_info": {
   "codemirror_mode": {
    "name": "ipython",
    "version": 3
   },
   "file_extension": ".py",
   "mimetype": "text/x-python",
   "name": "python",
   "nbconvert_exporter": "python",
   "pygments_lexer": "ipython3",
   "version": "3.10.12"
  }
 },
 "nbformat": 4,
 "nbformat_minor": 2
}
